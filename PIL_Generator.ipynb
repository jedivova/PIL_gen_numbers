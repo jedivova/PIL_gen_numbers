{
 "cells": [
  {
   "cell_type": "code",
   "execution_count": 2,
   "metadata": {},
   "outputs": [],
   "source": [
    "from __future__ import print_function\n",
    "from ipywidgets import interact, interactive, fixed, interact_manual\n",
    "import ipywidgets as widjets\n",
    "%matplotlib inline\n",
    "\n",
    "import numpy as np\n",
    "import collections\n",
    "\n",
    "from PIL import Image\n",
    "import pandas as pd\n",
    "\n",
    "import matplotlib.pyplot as plt\n",
    "\n",
    "import math\n",
    "import os\n",
    "import shutil\n",
    "import cv2\n",
    "from pathlib import Path\n",
    "from copy import deepcopy\n",
    "import random\n",
    "\n",
    "from sklearn.model_selection import train_test_split\n",
    "import itertools\n",
    "import matplotlib.pyplot as plt\n",
    "\n",
    "from torch.utils.data import Dataset, DataLoader, WeightedRandomSampler\n",
    "from time import time\n",
    "from tqdm.notebook import tqdm\n",
    "\n",
    "from sklearn.metrics import precision_score, recall_score, roc_auc_score, confusion_matrix\n",
    "from sklearn import metrics\n",
    "import json\n",
    "\n",
    "from scipy.stats import multivariate_normal\n",
    "from PIL import Image, ImageDraw, ImageFont\n",
    "import pathlib"
   ]
  },
  {
   "cell_type": "code",
   "execution_count": 2,
   "metadata": {},
   "outputs": [
    {
     "ename": "NameError",
     "evalue": "name 'ALL_IMAGES' is not defined",
     "output_type": "error",
     "traceback": [
      "\u001b[0;31m---------------------------------------------------------------------------\u001b[0m",
      "\u001b[0;31mNameError\u001b[0m                                 Traceback (most recent call last)",
      "\u001b[0;32m<ipython-input-2-b948582d7379>\u001b[0m in \u001b[0;36m<module>\u001b[0;34m\u001b[0m\n\u001b[1;32m      1\u001b[0m \u001b[0mROOT\u001b[0m \u001b[0;34m=\u001b[0m \u001b[0mPath\u001b[0m\u001b[0;34m(\u001b[0m\u001b[0;34m\"/usr/share/fonts/\"\u001b[0m\u001b[0;34m)\u001b[0m\u001b[0;34m\u001b[0m\u001b[0;34m\u001b[0m\u001b[0m\n\u001b[1;32m      2\u001b[0m \u001b[0mALL_FONTS\u001b[0m \u001b[0;34m=\u001b[0m \u001b[0msorted\u001b[0m\u001b[0;34m(\u001b[0m\u001b[0mROOT\u001b[0m\u001b[0;34m.\u001b[0m\u001b[0mglob\u001b[0m\u001b[0;34m(\u001b[0m\u001b[0;34m\"*.jpg\"\u001b[0m\u001b[0;34m)\u001b[0m\u001b[0;34m)\u001b[0m\u001b[0;34m\u001b[0m\u001b[0;34m\u001b[0m\u001b[0m\n\u001b[0;32m----> 3\u001b[0;31m \u001b[0mprint\u001b[0m\u001b[0;34m(\u001b[0m\u001b[0;34mf'found {len(ALL_IMAGES)} images'\u001b[0m\u001b[0;34m)\u001b[0m\u001b[0;34m\u001b[0m\u001b[0;34m\u001b[0m\u001b[0m\n\u001b[0m",
      "\u001b[0;31mNameError\u001b[0m: name 'ALL_IMAGES' is not defined"
     ]
    }
   ],
   "source": [
    "ROOT = Path(\"/usr/share/fonts/\")\n",
    "ALL_FONTS = sorted(ROOT.glob(\"*.jpg\"))\n",
    "print(f'found {len(ALL_FONTS)} ащтеы')"
   ]
  },
  {
   "cell_type": "code",
   "execution_count": null,
   "metadata": {},
   "outputs": [],
   "source": []
  },
  {
   "cell_type": "code",
   "execution_count": null,
   "metadata": {},
   "outputs": [],
   "source": []
  },
  {
   "cell_type": "code",
   "execution_count": 3,
   "metadata": {},
   "outputs": [],
   "source": [
    "char_lib = [x for x in '.0123456789']"
   ]
  },
  {
   "cell_type": "code",
   "execution_count": 4,
   "metadata": {},
   "outputs": [
    {
     "name": "stdout",
     "output_type": "stream",
     "text": [
      "13\n"
     ]
    },
    {
     "data": {
      "text/plain": [
       "<matplotlib.image.AxesImage at 0x7fd1367b6ca0>"
      ]
     },
     "execution_count": 4,
     "metadata": {},
     "output_type": "execute_result"
    },
    {
     "data": {
      "image/png": "[encoded data removed]",
      "text/plain": [
       "<Figure size 432x288 with 1 Axes>"
      ]
     },
     "metadata": {
      "needs_background": "light"
     },
     "output_type": "display_data"
    }
   ],
   "source": [
    "def draw_one_char(image_size=(20,20), \n",
    "                  font_size_init=20, \n",
    "                  font_path=\"fonts/arial.ttf\",\n",
    "                  different_sizes = False):\n",
    "    \n",
    "    if different_sizes:\n",
    "        font_size = np.random.randint(font_size_init*0.6, font_size_init)\n",
    "    else:\n",
    "        font_size = font_size_init\n",
    "    print(font_size)\n",
    "    assert font_size -2 <= image_size[1], 'image_size too small'\n",
    "    \n",
    "    \n",
    "    background_color = tuple(np.random.randint(200, size=(3)))\n",
    "    text_color = tuple(np.random.randint(230, high=255, size=(3), dtype=int))\n",
    "\n",
    "    font = ImageFont.truetype(font_path, font_size)\n",
    "    image = Image.new('RGB', image_size, color = background_color)\n",
    "    char_to_draw = char_lib[np.random.randint(len(char_lib)-1)]\n",
    "    (char_width, char_height) = font.getsize(char_to_draw)\n",
    "\n",
    "    x_coord = np.random.randint(image_size[0] - char_width)\n",
    "    #рисует смещенным на 2-3 пикселя по Y\n",
    "    if (image_size[1] - char_height) > 0 :\n",
    "        y_coord = np.random.randint(image_size[1] - char_height) - 2\n",
    "    else:\n",
    "        y_coord = -2\n",
    "    draw = ImageDraw.Draw(image)\n",
    "    draw.text((x_coord, y_coord), \n",
    "              char_to_draw, \n",
    "              fill=text_color, \n",
    "              font=font,\n",
    "             stroke_width=0) \n",
    "\n",
    "    return image\n",
    "\n",
    "image = draw_one_char(image_size=(20,20),font_size_init=20, font_path='fonts/Tulia_bold.otf',\n",
    "                      different_sizes=True)\n",
    "plt.imshow(image)"
   ]
  },
  {
   "cell_type": "code",
   "execution_count": 5,
   "metadata": {},
   "outputs": [
    {
     "data": {
      "text/plain": [
       "<PIL.ImageFont.FreeTypeFont at 0x7fd12e768340>"
      ]
     },
     "execution_count": 5,
     "metadata": {},
     "output_type": "execute_result"
    }
   ],
   "source": [
    "font = ImageFont.truetype('fonts/Tulia_bold.otf', 20)\n",
    "font"
   ]
  },
  {
   "cell_type": "code",
   "execution_count": 17,
   "metadata": {},
   "outputs": [
    {
     "data": {
      "text/plain": [
       "<matplotlib.image.AxesImage at 0x7fd12e3a3040>"
      ]
     },
     "execution_count": 17,
     "metadata": {},
     "output_type": "execute_result"
    },
    {
     "data": {
      "image/png": "[encoded data removed]",
      "text/plain": [
       "<Figure size 432x288 with 1 Axes>"
      ]
     },
     "metadata": {
      "needs_background": "light"
     },
     "output_type": "display_data"
    }
   ],
   "source": [
    "def draw_many_chars(\n",
    "    image_size=(50,30),\n",
    "    font_size_init=25,\n",
    "    char_num = 4,\n",
    "    font_path=\"fonts/arial.ttf\",\n",
    "    different_sizes = False,\n",
    "    different_coords = False,\n",
    "    different_colors = False,\n",
    "    black_chars = False,\n",
    "    false_targets = False\n",
    "):\n",
    "    \n",
    "    to_draw = random.choices(char_lib, k=char_num)\n",
    "    \n",
    "    if black_chars:\n",
    "        background_color = tuple(np.random.randint(50,255, size=(3)))\n",
    "        text_low, text_high = 0, 40\n",
    "    else:\n",
    "        background_color = tuple(np.random.randint(200, size=(3)))\n",
    "        text_low, text_high = 220, 255\n",
    "\n",
    "    image = Image.new('RGB', image_size, color = background_color)\n",
    "    draw = ImageDraw.Draw(image)\n",
    "    \n",
    "    text_color = tuple(np.random.randint(text_low, high=text_high, size=(3), dtype=int))\n",
    "    \n",
    "    bboxes = []\n",
    "    for i in range(char_num):\n",
    "        if different_colors:\n",
    "            text_color = tuple(np.random.randint(text_low, high=text_high, size=(3), dtype=int))\n",
    "            \n",
    "        char_to_draw = to_draw[i]\n",
    "        \n",
    "        if different_sizes:\n",
    "            font_size = np.random.randint(font_size_init*0.75, font_size_init)\n",
    "            if i==0:\n",
    "                x_start = np.random.randint(image_size[1]*0.2)\n",
    "        else:\n",
    "            font_size = font_size_init\n",
    "            if i==0:\n",
    "                x_start = 0\n",
    "                \n",
    "        font = ImageFont.truetype(font_path, font_size)\n",
    "\n",
    "        (char_width, char_height) = font.getsize(char_to_draw)\n",
    "        \n",
    "        if different_coords:\n",
    "            x_bias = np.random.randint(max(1, char_width*0.2))\n",
    "            \n",
    "            y_bias = np.random.randint(max(1, (image_size[1] - char_height)*0.2))\n",
    "#             print(image_size[1], char_height)\n",
    "        else:\n",
    "            x_bias = 0\n",
    "            y_bias = 0\n",
    "        \n",
    "        ######## define start pos for char #######\n",
    "        if i>0:\n",
    "            last_char_x1 = bboxes[-1][2]\n",
    "            # break condition\n",
    "            if last_char_x1 >= image_size[0]:\n",
    "                break\n",
    "            \n",
    "            x_start = last_char_x1 + x_bias\n",
    "        \n",
    "            \n",
    "        y_start = 0 + y_bias\n",
    "        \n",
    "        ######### define bbox ##############\n",
    "        mask = font.getmask(char_to_draw)\n",
    "        mask=np.array(mask).reshape(mask.size[::-1])\n",
    "        coords_of_char = np.where(mask!=0)\n",
    "        y_min_mask, y_max_mask = coords_of_char[0].min(), coords_of_char[0].max()\n",
    "        x_min_mask, x_max_mask = coords_of_char[1].min(), coords_of_char[1].max()\n",
    "\n",
    "        x_offset, y_offset = font.getoffset(char_to_draw)\n",
    "\n",
    "        x0 = x_start + x_offset + x_min_mask\n",
    "        y0 = y_start + y_offset + y_min_mask\n",
    "        x1 = x_start + x_offset + x_max_mask\n",
    "        y1 = y_start + y_offset + y_max_mask\n",
    "\n",
    "        bbox = [x0, y0, x1, y1, char_to_draw]\n",
    "        bboxes.append(bbox)\n",
    "        \n",
    "        ############# DRAW char ############\n",
    "        draw.text((x_start, y_start),\n",
    "                  char_to_draw, \n",
    "                  fill=text_color, \n",
    "                  font=font)\n",
    "        last_char_width = char_width\n",
    "        \n",
    "    return image, bboxes\n",
    "\n",
    "\n",
    "image, bboxes = draw_many_chars(different_coords=True, different_sizes = True, black_chars=False)\n",
    "plt.imshow(image)\n",
    "\n",
    "#image.save('pil_text.png')\n",
    "image1 = np.array(image)\n",
    "for bbox in bboxes:\n",
    "    image1 = cv2.rectangle(image1, \n",
    "                           (bbox[0],bbox[1]), \n",
    "                           (bbox[2],bbox[3]), (0,255,0), thickness=1)\n",
    "plt.imshow(image1)"
   ]
  },
  {
   "cell_type": "code",
   "execution_count": 297,
   "metadata": {},
   "outputs": [
    {
     "data": {
      "image/png": "[encoded data removed]",
      "text/plain": [
       "<Figure size 432x288 with 1 Axes>"
      ]
     },
     "metadata": {
      "needs_background": "light"
     },
     "output_type": "display_data"
    },
    {
     "data": {
      "image/png": "[encoded data removed]",
      "text/plain": [
       "<Figure size 432x288 with 1 Axes>"
      ]
     },
     "metadata": {
      "needs_background": "light"
     },
     "output_type": "display_data"
    },
    {
     "data": {
      "image/png": "[encoded data removed]",
      "text/plain": [
       "<Figure size 432x288 with 1 Axes>"
      ]
     },
     "metadata": {
      "needs_background": "light"
     },
     "output_type": "display_data"
    },
    {
     "data": {
      "image/png": "[encoded data removed]",
      "text/plain": [
       "<Figure size 432x288 with 1 Axes>"
      ]
     },
     "metadata": {
      "needs_background": "light"
     },
     "output_type": "display_data"
    },
    {
     "data": {
      "image/png": "[encoded data removed]",
      "text/plain": [
       "<Figure size 432x288 with 1 Axes>"
      ]
     },
     "metadata": {
      "needs_background": "light"
     },
     "output_type": "display_data"
    },
    {
     "data": {
      "image/png": "[encoded data removed]",
      "text/plain": [
       "<Figure size 432x288 with 1 Axes>"
      ]
     },
     "metadata": {
      "needs_background": "light"
     },
     "output_type": "display_data"
    },
    {
     "data": {
      "image/png": "[encoded data removed]",
      "text/plain": [
       "<Figure size 432x288 with 1 Axes>"
      ]
     },
     "metadata": {
      "needs_background": "light"
     },
     "output_type": "display_data"
    },
    {
     "data": {
      "image/png": "[encoded data removed]",
      "text/plain": [
       "<Figure size 432x288 with 1 Axes>"
      ]
     },
     "metadata": {
      "needs_background": "light"
     },
     "output_type": "display_data"
    },
    {
     "data": {
      "image/png": "[encoded data removed]",
      "text/plain": [
       "<Figure size 432x288 with 1 Axes>"
      ]
     },
     "metadata": {
      "needs_background": "light"
     },
     "output_type": "display_data"
    },
    {
     "data": {
      "image/png": "[encoded data removed]",
      "text/plain": [
       "<Figure size 432x288 with 1 Axes>"
      ]
     },
     "metadata": {
      "needs_background": "light"
     },
     "output_type": "display_data"
    },
    {
     "data": {
      "image/png": "[encoded data removed]",
      "text/plain": [
       "<Figure size 432x288 with 1 Axes>"
      ]
     },
     "metadata": {
      "needs_background": "light"
     },
     "output_type": "display_data"
    },
    {
     "data": {
      "image/png": "[encoded data removed]",
      "text/plain": [
       "<Figure size 432x288 with 1 Axes>"
      ]
     },
     "metadata": {
      "needs_background": "light"
     },
     "output_type": "display_data"
    },
    {
     "data": {
      "image/png": "[encoded data removed]",
      "text/plain": [
       "<Figure size 432x288 with 1 Axes>"
      ]
     },
     "metadata": {
      "needs_background": "light"
     },
     "output_type": "display_data"
    },
    {
     "data": {
      "image/png": "[encoded data removed]",
      "text/plain": [
       "<Figure size 432x288 with 1 Axes>"
      ]
     },
     "metadata": {
      "needs_background": "light"
     },
     "output_type": "display_data"
    },
    {
     "data": {
      "image/png": "[encoded data removed]",
      "text/plain": [
       "<Figure size 432x288 with 1 Axes>"
      ]
     },
     "metadata": {
      "needs_background": "light"
     },
     "output_type": "display_data"
    },
    {
     "data": {
      "image/png": "[encoded data removed]",
      "text/plain": [
       "<Figure size 432x288 with 1 Axes>"
      ]
     },
     "metadata": {
      "needs_background": "light"
     },
     "output_type": "display_data"
    },
    {
     "data": {
      "image/png": "[encoded data removed]",
      "text/plain": [
       "<Figure size 432x288 with 1 Axes>"
      ]
     },
     "metadata": {
      "needs_background": "light"
     },
     "output_type": "display_data"
    },
    {
     "data": {
      "image/png": "[encoded data removed]",
      "text/plain": [
       "<Figure size 432x288 with 1 Axes>"
      ]
     },
     "metadata": {
      "needs_background": "light"
     },
     "output_type": "display_data"
    },
    {
     "data": {
      "image/png": "[encoded data removed]",
      "text/plain": [
       "<Figure size 432x288 with 1 Axes>"
      ]
     },
     "metadata": {
      "needs_background": "light"
     },
     "output_type": "display_data"
    },
    {
     "data": {
      "image/png": "[encoded data removed]",
      "text/plain": [
       "<Figure size 432x288 with 1 Axes>"
      ]
     },
     "metadata": {
      "needs_background": "light"
     },
     "output_type": "display_data"
    },
    {
     "data": {
      "image/png": "[encoded data removed]",
      "text/plain": [
       "<Figure size 432x288 with 1 Axes>"
      ]
     },
     "metadata": {
      "needs_background": "light"
     },
     "output_type": "display_data"
    },
    {
     "data": {
      "image/png": "[encoded data removed]",
      "text/plain": [
       "<Figure size 432x288 with 1 Axes>"
      ]
     },
     "metadata": {
      "needs_background": "light"
     },
     "output_type": "display_data"
    },
    {
     "data": {
      "image/png": "[encoded data removed]",
      "text/plain": [
       "<Figure size 432x288 with 1 Axes>"
      ]
     },
     "metadata": {
      "needs_background": "light"
     },
     "output_type": "display_data"
    },
    {
     "data": {
      "image/png": "[encoded data removed]",
      "text/plain": [
       "<Figure size 432x288 with 1 Axes>"
      ]
     },
     "metadata": {
      "needs_background": "light"
     },
     "output_type": "display_data"
    },
    {
     "data": {
      "image/png": "[encoded data removed]",
      "text/plain": [
       "<Figure size 432x288 with 1 Axes>"
      ]
     },
     "metadata": {
      "needs_background": "light"
     },
     "output_type": "display_data"
    },
    {
     "data": {
      "image/png": "[encoded data removed]",
      "text/plain": [
       "<Figure size 432x288 with 1 Axes>"
      ]
     },
     "metadata": {
      "needs_background": "light"
     },
     "output_type": "display_data"
    },
    {
     "data": {
      "image/png": "[encoded data removed]",
      "text/plain": [
       "<Figure size 432x288 with 1 Axes>"
      ]
     },
     "metadata": {
      "needs_background": "light"
     },
     "output_type": "display_data"
    },
    {
     "data": {
      "image/png": "[encoded data removed]",
      "text/plain": [
       "<Figure size 432x288 with 1 Axes>"
      ]
     },
     "metadata": {
      "needs_background": "light"
     },
     "output_type": "display_data"
    },
    {
     "data": {
      "image/png": "[encoded data removed]",
      "text/plain": [
       "<Figure size 432x288 with 1 Axes>"
      ]
     },
     "metadata": {
      "needs_background": "light"
     },
     "output_type": "display_data"
    },
    {
     "data": {
      "image/png": "[encoded data removed]",
      "text/plain": [
       "<Figure size 432x288 with 1 Axes>"
      ]
     },
     "metadata": {
      "needs_background": "light"
     },
     "output_type": "display_data"
    },
    {
     "data": {
      "image/png": "[encoded data removed]",
      "text/plain": [
       "<Figure size 432x288 with 1 Axes>"
      ]
     },
     "metadata": {
      "needs_background": "light"
     },
     "output_type": "display_data"
    },
    {
     "data": {
      "image/png": "[encoded data removed]",
      "text/plain": [
       "<Figure size 432x288 with 1 Axes>"
      ]
     },
     "metadata": {
      "needs_background": "light"
     },
     "output_type": "display_data"
    },
    {
     "data": {
      "image/png": "[encoded data removed]",
      "text/plain": [
       "<Figure size 432x288 with 1 Axes>"
      ]
     },
     "metadata": {
      "needs_background": "light"
     },
     "output_type": "display_data"
    },
    {
     "data": {
      "image/png": "[encoded data removed]",
      "text/plain": [
       "<Figure size 432x288 with 1 Axes>"
      ]
     },
     "metadata": {
      "needs_background": "light"
     },
     "output_type": "display_data"
    },
    {
     "data": {
      "image/png": "[encoded data removed]",
      "text/plain": [
       "<Figure size 432x288 with 1 Axes>"
      ]
     },
     "metadata": {
      "needs_background": "light"
     },
     "output_type": "display_data"
    },
    {
     "data": {
      "image/png": "[encoded data removed]",
      "text/plain": [
       "<Figure size 432x288 with 1 Axes>"
      ]
     },
     "metadata": {
      "needs_background": "light"
     },
     "output_type": "display_data"
    },
    {
     "data": {
      "image/png": "[encoded data removed]",
      "text/plain": [
       "<Figure size 432x288 with 1 Axes>"
      ]
     },
     "metadata": {
      "needs_background": "light"
     },
     "output_type": "display_data"
    },
    {
     "data": {
      "image/png": "[encoded data removed]",
      "text/plain": [
       "<Figure size 432x288 with 1 Axes>"
      ]
     },
     "metadata": {
      "needs_background": "light"
     },
     "output_type": "display_data"
    },
    {
     "data": {
      "image/png": "[encoded data removed]",
      "text/plain": [
       "<Figure size 432x288 with 1 Axes>"
      ]
     },
     "metadata": {
      "needs_background": "light"
     },
     "output_type": "display_data"
    },
    {
     "data": {
      "image/png": "[encoded data removed]",
      "text/plain": [
       "<Figure size 432x288 with 1 Axes>"
      ]
     },
     "metadata": {
      "needs_background": "light"
     },
     "output_type": "display_data"
    }
   ],
   "source": [
    "for i in range(40):\n",
    "    image, bboxes = draw_many_chars(different_coords=True, different_sizes = True, black_chars=False)\n",
    "\n",
    "    plt.imshow(image)\n",
    "    plt.show()"
   ]
  },
  {
   "cell_type": "code",
   "execution_count": 76,
   "metadata": {},
   "outputs": [
    {
     "name": "stdout",
     "output_type": "stream",
     "text": [
      "getsize (8, 28)\n",
      "getbbox (0, 28, 8, 28)\n",
      "(0,) (8, 0)\n"
     ]
    },
    {
     "name": "stderr",
     "output_type": "stream",
     "text": [
      "<ipython-input-76-b40fd28628d2>:19: UserWarning: Attempting to set identical bottom == top == -0.5 results in singular transformations; automatically expanding.\n",
      "  plt.imshow(a)\n"
     ]
    },
    {
     "data": {
      "text/plain": [
       "<matplotlib.image.AxesImage at 0x7fd12e2c0f10>"
      ]
     },
     "execution_count": 76,
     "metadata": {},
     "output_type": "execute_result"
    },
    {
     "data": {
      "image/png": "[encoded data removed]",
      "text/plain": [
       "<Figure size 432x288 with 1 Axes>"
      ]
     },
     "metadata": {
      "needs_background": "light"
     },
     "output_type": "display_data"
    }
   ],
   "source": [
    "background_color = tuple(np.random.randint(200, size=(3)))\n",
    "\n",
    "\n",
    "text_color = (255,255,255)\n",
    "char_to_draw = ' '\n",
    "font_size = 30\n",
    "\n",
    "font = ImageFont.truetype(\"fonts/arial.ttf\", font_size)\n",
    "print('getsize', font.getsize(char_to_draw))\n",
    "print('getbbox', font.getbbox(char_to_draw))\n",
    "\n",
    "# plt.imshow(image)\n",
    "mask = font.getmask(char_to_draw)\n",
    "# draw_size = font.getsize(char_to_draw)\n",
    "# actual_size = font.getmask(char_to_draw).size\n",
    "# print(draw_size,actual_size)\n",
    "print(np.array(mask).shape, mask.size)\n",
    "a=np.array(mask).reshape(mask.size[::-1])\n",
    "plt.imshow(a)"
   ]
  },
  {
   "cell_type": "code",
   "execution_count": null,
   "metadata": {},
   "outputs": [],
   "source": [
    "def draw_many_chars(\n",
    "    image_size=(50,30),\n",
    "    font_size_init=25,\n",
    "    char_num = 4,\n",
    "    font_path=\"fonts/arial.ttf\",\n",
    "    different_sizes = False,\n",
    "    different_coords = False,\n",
    "    different_colors = False,\n",
    "    black_chars = False,\n",
    "    false_targets = False\n",
    "):\n",
    "    \n",
    "    to_draw = random.choices(char_lib, k=char_num)\n",
    "    \n",
    "    if black_chars:\n",
    "        background_color = tuple(np.random.randint(50,255, size=(3)))\n",
    "        text_low, text_high = 0, 40\n",
    "    else:\n",
    "        background_color = tuple(np.random.randint(200, size=(3)))\n",
    "        text_low, text_high = 220, 255\n",
    "\n",
    "    image = Image.new('RGB', image_size, color = background_color)\n",
    "    draw = ImageDraw.Draw(image)\n",
    "    \n",
    "    text_color = tuple(np.random.randint(text_low, high=text_high, size=(3), dtype=int))\n",
    "    if false_targets:\n",
    "        false_targets_num = np.random.randint(3)\n",
    "        false_target_1_word = \n",
    "    \n",
    "    bboxes = []\n",
    "    for i in range(char_num):\n",
    "        if different_colors:\n",
    "            text_color = tuple(np.random.randint(text_low, high=text_high, size=(3), dtype=int))\n",
    "            \n",
    "        char_to_draw = to_draw[i]\n",
    "        \n",
    "        if different_sizes:\n",
    "            font_size = np.random.randint(font_size_init*0.75, font_size_init)\n",
    "            if i==0:\n",
    "                x_start = np.random.randint(image_size[1]*0.2)\n",
    "        else:\n",
    "            font_size = font_size_init\n",
    "            if i==0:\n",
    "                x_start = 0\n",
    "                \n",
    "        font = ImageFont.truetype(font_path, font_size)\n",
    "\n",
    "        (char_width, char_height) = font.getsize(char_to_draw)\n",
    "        \n",
    "        if different_coords:\n",
    "            x_bias = np.random.randint(max(1, char_width*0.2+1))\n",
    "            \n",
    "            y_bias = np.random.randint(max(1, (image_size[1] - char_height)*0.2+1))\n",
    "#             print(image_size[1], char_height)\n",
    "        else:\n",
    "            x_bias = 0\n",
    "            y_bias = 0\n",
    "        \n",
    "        ######## define start pos for char #######\n",
    "        if i>0:\n",
    "            last_char_x1 = bboxes[-1][2]\n",
    "            # break condition\n",
    "            if last_char_x1 >= image_size[0]:\n",
    "                return image, bboxes\n",
    "            \n",
    "            x_start = last_char_x1 + x_bias\n",
    "        \n",
    "            \n",
    "        y_start = 0 + y_bias\n",
    "        \n",
    "        ######### define bbox ##############\n",
    "        mask = font.getmask(char_to_draw)\n",
    "        mask=np.array(mask).reshape(mask.size[::-1])\n",
    "        coords_of_char = np.where(mask!=0)\n",
    "        y_min_mask, y_max_mask = coords_of_char[0].min(), coords_of_char[0].max()\n",
    "        x_min_mask, x_max_mask = coords_of_char[1].min(), coords_of_char[1].max()\n",
    "\n",
    "        x_offset, y_offset = font.getoffset(char_to_draw)\n",
    "\n",
    "        x0 = x_start + x_offset + x_min_mask\n",
    "        y0 = y_start + y_offset + y_min_mask\n",
    "        x1 = x_start + x_offset + x_max_mask\n",
    "        y1 = y_start + y_offset + y_max_mask\n",
    "\n",
    "        bbox = [x0, y0, x1, y1, char_to_draw]\n",
    "        bboxes.append(bbox)\n",
    "        \n",
    "        ############# DRAW char ############\n",
    "        draw.text((x_start, y_start),\n",
    "                  char_to_draw, \n",
    "                  fill=text_color, \n",
    "                  font=font)\n",
    "        last_char_width = char_width\n",
    "        \n",
    "    return image, bboxes\n",
    "\n",
    "\n",
    "image, bboxes = draw_many_chars(different_coords=True, different_sizes = True, black_chars=False)\n",
    "plt.imshow(image)\n",
    "\n",
    "#image.save('pil_text.png')\n",
    "image1 = np.array(image)\n",
    "for bbox in bboxes:\n",
    "    image1 = cv2.rectangle(image1, \n",
    "                           (bbox[0],bbox[1]), \n",
    "                           (bbox[2],bbox[3]), (0,255,0), thickness=1)\n",
    "plt.imshow(image1)"
   ]
  },
  {
   "cell_type": "markdown",
   "metadata": {},
   "source": [
    "# Augments"
   ]
  },
  {
   "cell_type": "code",
   "execution_count": 12,
   "metadata": {},
   "outputs": [],
   "source": [
    "# https://colab.research.google.com/drive/1JuZ23u0C0gx93kV0oJ8Mq0B6CBYhPLXy#scrollTo=aOxbFYRGw43g&forceEdit=true&sandboxMode=true"
   ]
  },
  {
   "cell_type": "code",
   "execution_count": 75,
   "metadata": {},
   "outputs": [
    {
     "data": {
      "text/plain": [
       "0"
      ]
     },
     "execution_count": 75,
     "metadata": {},
     "output_type": "execute_result"
    }
   ],
   "source": [
    "np.random.randint(0, 1.1)"
   ]
  },
  {
   "cell_type": "code",
   "execution_count": 13,
   "metadata": {},
   "outputs": [],
   "source": [
    "import albumentations as albu\n",
    "from albumentations.pytorch import ToTensor\n",
    "\n",
    "BORDER_CONSTANT = 0\n",
    "BORDER_REFLECT = 2\n",
    "\n",
    "def pre_transforms(image_size=128):\n",
    "    # Convert the image to a square of size image_size x image_size\n",
    "    # (keeping aspect ratio)\n",
    "    return albu.Compose([\n",
    "        albu.LongestMaxSize(max_size=image_size),\n",
    "        albu.PadIfNeeded(image_size, image_size, border_mode=BORDER_CONSTANT, value=0)\n",
    "    ], bbox_params=albu.BboxParams(format='pascal_voc', label_fields=['labels']))\n",
    "\n",
    "\n",
    "def hard_transforms():\n",
    "    return albu.Compose([\n",
    "        # Random shifts, stretches and turns with a 50% probability\n",
    "#         albu.ShiftScaleRotate( \n",
    "#             shift_limit=0.1,\n",
    "#             scale_limit=0.1,\n",
    "#             rotate_limit=30,\n",
    "#             border_mode=0,\n",
    "#             value=0,\n",
    "#             mask_value=0,\n",
    "#             p=0.5\n",
    "#         ),\n",
    "        \n",
    "        albu.InvertImg(p=0.3),\n",
    "        albu.HueSaturationValue(p=0.3),\n",
    "        albu.OneOf([\n",
    "            albu.IAAAdditiveGaussianNoise(),\n",
    "            albu.GaussNoise(),\n",
    "            albu.MultiplicativeNoise(multiplier=[0.5, 1.5], per_channel=True, p=1)\n",
    "        ], p=0.3),\n",
    "        albu.OneOf([\n",
    "            albu.MotionBlur(p=0.2),\n",
    "            albu.MedianBlur(blur_limit=3, p=0.1),\n",
    "            albu.Blur(blur_limit=3, p=0.1),\n",
    "        ], p=0.2),\n",
    "        albu.OneOf([\n",
    "            albu.CLAHE(clip_limit=2),\n",
    "            albu.IAASharpen(),\n",
    "            albu.IAAEmboss(),\n",
    "            albu.RandomBrightnessContrast(brightness_limit=0.2, contrast_limit=0.2, p=0.3),\n",
    "            albu.RandomGamma(gamma_limit=(85, 115), p=0.3),\n",
    "        ], p=0.3),\n",
    "        albu.JpegCompression(quality_lower=4, quality_upper=100, p=0.5),\n",
    "        albu.Cutout(num_holes=30, max_h_size=1, max_w_size=1, fill_value=0, p=1),\n",
    "        ], p=0.9, bbox_params=albu.BboxParams(format='pascal_voc', label_fields=['labels']))\n",
    "\n",
    "def post_transforms():\n",
    "    return albu.Compose([\n",
    "        albu.Normalize(), \n",
    "        ToTensor()],\n",
    "        p=0.9, bbox_params=albu.BboxParams(format='pascal_voc', label_fields=['labels']))\n",
    "\n",
    "def compose(transforms_to_compose):\n",
    "    # combine all augmentations into one single pipeline\n",
    "    return albu.Compose([\n",
    "      item for sublist in transforms_to_compose for item in sublist\n",
    "    ])\n",
    "\n",
    "train_transforms = compose([\n",
    "    pre_transforms(), \n",
    "    hard_transforms(), \n",
    "    post_transforms()\n",
    "])\n",
    "valid_transforms = compose([pre_transforms(), post_transforms()])\n",
    "\n",
    "show_transforms = compose([pre_transforms(), hard_transforms()])"
   ]
  },
  {
   "cell_type": "markdown",
   "metadata": {},
   "source": [
    "# Dataset classes"
   ]
  },
  {
   "cell_type": "code",
   "execution_count": 14,
   "metadata": {},
   "outputs": [],
   "source": [
    "class Dataset_one_PIL_digit(Dataset):\n",
    "    def __init__(self, label_dict, size_of_dataset=1000, transforms=None) -> None:\n",
    "        self.transforms = transforms\n",
    "        self.size_of_dataset = size_of_dataset\n",
    "        \n",
    "\n",
    "    def __len__(self) -> int:\n",
    "        return self.size_of_dataset\n",
    "\n",
    "    def __getitem__(self, idx: int) -> dict:\n",
    "        image, label = draw_one_char(image_size=(20,20), \n",
    "                  font_size_init=20, \n",
    "                  font_path=\"fonts/arial.ttf\", \n",
    "                  different_sizes = True)\n",
    "        \n",
    "        result = {\"image\": image, \"label\": label}\n",
    "        \n",
    "        if self.transforms is not None:\n",
    "            result = self.transforms(**result)\n",
    "        \n",
    "        return result"
   ]
  },
  {
   "cell_type": "code",
   "execution_count": 15,
   "metadata": {},
   "outputs": [],
   "source": [
    "class Dataset_many_PIL_digits(Dataset):\n",
    "    def __init__(self, label_dict, size_of_dataset=1000, transforms=None) -> None:\n",
    "        self.transforms = transforms\n",
    "        self.size_of_dataset = size_of_dataset\n",
    "        \n",
    "    def __len__(self) -> int:\n",
    "        return self.size_of_dataset\n",
    "\n",
    "    def __getitem__(self, idx: int) -> dict:\n",
    "        image, label = draw_many_chars(\n",
    "                            image_size=(80,20),\n",
    "                            font_size_init=20,\n",
    "                            char_num = 4,\n",
    "                            font_path=\"fonts/arial.ttf\",\n",
    "                            different_sizes = True,\n",
    "                            different_coords = True,\n",
    "                        )\n",
    "        \n",
    "        result = {\"image\": image, \"label\": label}\n",
    "        \n",
    "        if self.transforms is not None:\n",
    "            result = self.transforms(**result)\n",
    "        \n",
    "        return result"
   ]
  },
  {
   "cell_type": "code",
   "execution_count": null,
   "metadata": {},
   "outputs": [],
   "source": []
  },
  {
   "cell_type": "code",
   "execution_count": 16,
   "metadata": {},
   "outputs": [
    {
     "data": {
      "text/plain": [
       "'\\nчерные пиксели только по поверхности цифры (трешолд по белому цвету и cutout)\\n\\nу 1 и 7ки сделать семлирование побольше(вероятности появления сделать выше средних)\\n\\n\\n'"
      ]
     },
     "execution_count": 16,
     "metadata": {},
     "output_type": "execute_result"
    }
   ],
   "source": [
    "\"\"\"\n",
    "черные пиксели только по поверхности цифры (трешолд по белому цвету и cutout)\n",
    "\n",
    "у 1 и 7ки сделать семлирование побольше(вероятности появления сделать выше средних)\n",
    "\n",
    "\n",
    "\"\"\""
   ]
  },
  {
   "cell_type": "code",
   "execution_count": null,
   "metadata": {},
   "outputs": [],
   "source": []
  },
  {
   "cell_type": "code",
   "execution_count": null,
   "metadata": {},
   "outputs": [],
   "source": []
  },
  {
   "cell_type": "code",
   "execution_count": null,
   "metadata": {},
   "outputs": [],
   "source": []
  },
  {
   "cell_type": "code",
   "execution_count": null,
   "metadata": {},
   "outputs": [],
   "source": []
  },
  {
   "cell_type": "markdown",
   "metadata": {},
   "source": [
    "# SHOW"
   ]
  },
  {
   "cell_type": "code",
   "execution_count": 17,
   "metadata": {},
   "outputs": [],
   "source": [
    "transform = compose([hard_transforms()])"
   ]
  },
  {
   "cell_type": "code",
   "execution_count": 19,
   "metadata": {},
   "outputs": [
    {
     "name": "stdout",
     "output_type": "stream",
     "text": [
      "20\n"
     ]
    },
    {
     "data": {
      "text/plain": [
       "<matplotlib.image.AxesImage at 0x1b8a9197c88>"
      ]
     },
     "execution_count": 19,
     "metadata": {},
     "output_type": "execute_result"
    },
    {
     "data": {
      "image/png": "[encoded data removed]",
      "text/plain": [
       "<Figure size 432x288 with 1 Axes>"
      ]
     },
     "metadata": {
      "needs_background": "light"
     },
     "output_type": "display_data"
    }
   ],
   "source": [
    "image = draw_one_char(image_size=(20,20),font_size_init=20)\n",
    "outp = transform(image=np.array(image))['image']\n",
    "plt.imshow(outp)"
   ]
  },
  {
   "cell_type": "code",
   "execution_count": null,
   "metadata": {},
   "outputs": [],
   "source": []
  },
  {
   "cell_type": "code",
   "execution_count": null,
   "metadata": {},
   "outputs": [],
   "source": []
  },
  {
   "cell_type": "markdown",
   "metadata": {},
   "source": [
    "# Some shit"
   ]
  },
  {
   "cell_type": "code",
   "execution_count": 3,
   "metadata": {},
   "outputs": [],
   "source": [
    "\n",
    "def text(\n",
    "        self,\n",
    "        xy,\n",
    "        text,\n",
    "        fill=None,\n",
    "        font=None,\n",
    "        anchor=None,\n",
    "        spacing=4,\n",
    "        align=\"left\",\n",
    "        direction=None,\n",
    "        features=None,\n",
    "        language=None,\n",
    "        stroke_width=0,\n",
    "        stroke_fill=None,\n",
    "        embedded_color=False,\n",
    "        *args,\n",
    "        **kwargs,\n",
    "    ):\n",
    "        if self._multiline_check(text):\n",
    "            return self.multiline_text(\n",
    "                xy,\n",
    "                text,\n",
    "                fill,\n",
    "                font,\n",
    "                anchor,\n",
    "                spacing,\n",
    "                align,\n",
    "                direction,\n",
    "                features,\n",
    "                language,\n",
    "                stroke_width,\n",
    "                stroke_fill,\n",
    "                embedded_color,\n",
    "            )\n",
    "\n",
    "        if embedded_color and self.mode not in (\"RGB\", \"RGBA\"):\n",
    "            raise ValueError(\"Embedded color supported only in RGB and RGBA modes\")\n",
    "\n",
    "        if font is None:\n",
    "            font = self.getfont()\n",
    "\n",
    "        def getink(fill):\n",
    "            ink, fill = self._getink(fill)\n",
    "            if ink is None:\n",
    "                return fill\n",
    "            return ink\n",
    "\n",
    "        print(ink)\n",
    "\n",
    "        def draw_text(ink, stroke_width=0, stroke_offset=None):\n",
    "            mode = self.fontmode\n",
    "            if stroke_width == 0 and embedded_color:\n",
    "                mode = \"RGBA\"\n",
    "            coord = xy\n",
    "            try:\n",
    "                mask, offset = font.getmask2(\n",
    "                    text,\n",
    "                    mode,\n",
    "                    direction=direction,\n",
    "                    features=features,\n",
    "                    language=language,\n",
    "                    stroke_width=stroke_width,\n",
    "                    anchor=anchor,\n",
    "                    ink=ink,\n",
    "                    *args,\n",
    "                    **kwargs,\n",
    "                )\n",
    "                coord = coord[0] + offset[0], coord[1] + offset[1]\n",
    "            except AttributeError:\n",
    "                try:\n",
    "                    mask = font.getmask(\n",
    "                        text,\n",
    "                        mode,\n",
    "                        direction,\n",
    "                        features,\n",
    "                        language,\n",
    "                        stroke_width,\n",
    "                        anchor,\n",
    "                        ink,\n",
    "                        *args,\n",
    "                        **kwargs,\n",
    "                    )\n",
    "                except TypeError:\n",
    "                    mask = font.getmask(text)\n",
    "            if stroke_offset:\n",
    "                coord = coord[0] + stroke_offset[0], coord[1] + stroke_offset[1]\n",
    "            if mode == \"RGBA\":\n",
    "                # font.getmask2(mode=\"RGBA\") returns color in RGB bands and mask in A\n",
    "                # extract mask and set text alpha\n",
    "                color, mask = mask, mask.getband(3)\n",
    "                color.fillband(3, (ink >> 24) & 0xFF)\n",
    "                coord2 = coord[0] + mask.size[0], coord[1] + mask.size[1]\n",
    "                self.im.paste(color, coord + coord2, mask)\n",
    "            else:\n",
    "                self.draw.draw_bitmap(coord, mask, ink)\n",
    "\n",
    "        ink = getink(fill)\n",
    "        if ink is not None:\n",
    "            stroke_ink = None\n",
    "            if stroke_width:\n",
    "                stroke_ink = getink(stroke_fill) if stroke_fill is not None else ink\n",
    "\n",
    "            if stroke_ink is not None:\n",
    "                # Draw stroked text\n",
    "                draw_text(stroke_ink, stroke_width)\n",
    "\n",
    "                # Draw normal text\n",
    "                draw_text(ink, 0)\n",
    "            else:\n",
    "                # Only draw normal text\n",
    "                draw_text(ink)"
   ]
  },
  {
   "cell_type": "code",
   "execution_count": 22,
   "metadata": {},
   "outputs": [
    {
     "ename": "TypeError",
     "evalue": "text() got multiple values for argument 'fill'",
     "output_type": "error",
     "traceback": [
      "\u001b[1;31m---------------------------------------------------------------------------\u001b[0m",
      "\u001b[1;31mTypeError\u001b[0m                                 Traceback (most recent call last)",
      "\u001b[1;32m<ipython-input-22-08e802ff7d06>\u001b[0m in \u001b[0;36m<module>\u001b[1;34m\u001b[0m\n\u001b[0;32m      8\u001b[0m \u001b[0mdraw\u001b[0m \u001b[1;33m=\u001b[0m \u001b[0mImageDraw\u001b[0m\u001b[1;33m.\u001b[0m\u001b[0mDraw\u001b[0m\u001b[1;33m(\u001b[0m\u001b[0mimg\u001b[0m\u001b[1;33m)\u001b[0m\u001b[1;33m\u001b[0m\u001b[1;33m\u001b[0m\u001b[0m\n\u001b[0;32m      9\u001b[0m \u001b[1;31m# draw.text = A.text\u001b[0m\u001b[1;33m\u001b[0m\u001b[1;33m\u001b[0m\u001b[1;33m\u001b[0m\u001b[0m\n\u001b[1;32m---> 10\u001b[1;33m \u001b[0mdraw\u001b[0m\u001b[1;33m.\u001b[0m\u001b[0mtext\u001b[0m\u001b[1;33m(\u001b[0m\u001b[1;32mNone\u001b[0m\u001b[1;33m,\u001b[0m \u001b[1;33m(\u001b[0m\u001b[1;36m0\u001b[0m\u001b[1;33m,\u001b[0m\u001b[1;36m10\u001b[0m\u001b[1;33m)\u001b[0m\u001b[1;33m,\u001b[0m \u001b[1;34m\"Hello World\"\u001b[0m\u001b[1;33m,\u001b[0m \u001b[0mfill\u001b[0m\u001b[1;33m=\u001b[0m\u001b[1;33m(\u001b[0m\u001b[1;36m255\u001b[0m\u001b[1;33m,\u001b[0m\u001b[1;36m255\u001b[0m\u001b[1;33m,\u001b[0m\u001b[1;36m0\u001b[0m\u001b[1;33m)\u001b[0m\u001b[1;33m)\u001b[0m\u001b[1;33m\u001b[0m\u001b[1;33m\u001b[0m\u001b[0m\n\u001b[0m\u001b[0;32m     11\u001b[0m \u001b[1;33m\u001b[0m\u001b[0m\n\u001b[0;32m     12\u001b[0m \u001b[0mplt\u001b[0m\u001b[1;33m.\u001b[0m\u001b[0mimshow\u001b[0m\u001b[1;33m(\u001b[0m\u001b[0mimg\u001b[0m\u001b[1;33m)\u001b[0m\u001b[1;33m\u001b[0m\u001b[1;33m\u001b[0m\u001b[0m\n",
      "\u001b[1;31mTypeError\u001b[0m: text() got multiple values for argument 'fill'"
     ]
    }
   ],
   "source": [
    "font_path=\"fonts/arial.ttf\"\n",
    "font = ImageFont.truetype(font_path, 14)\n",
    "\n",
    "from PIL import Image, ImageDraw, ImageFont\n",
    "\n",
    "img = Image.new('RGB', (100, 30), color = (73, 109, 137))\n",
    "\n",
    "draw = ImageDraw.Draw(img)\n",
    "# draw.text = A.text\n",
    "draw.text(None, (0,10), \"Hello World\", fill=(255,255,0))\n",
    "\n",
    "plt.imshow(img)\n",
    "# # img.save('pil_text.png')"
   ]
  },
  {
   "cell_type": "code",
   "execution_count": 99,
   "metadata": {},
   "outputs": [
    {
     "name": "stdout",
     "output_type": "stream",
     "text": [
      "(75, 67) (75, 56)\n"
     ]
    },
    {
     "data": {
      "text/plain": [
       "<matplotlib.image.AxesImage at 0x7f307ca18bb0>"
      ]
     },
     "execution_count": 99,
     "metadata": {},
     "output_type": "execute_result"
    },
    {
     "data": {
      "image/png": "[encoded data removed]",
      "text/plain": [
       "<Figure size 432x288 with 1 Axes>"
      ]
     },
     "metadata": {
      "needs_background": "light"
     },
     "output_type": "display_data"
    }
   ],
   "source": [
    "font_path=r\"fonts/arial.ttf\"\n",
    "font = ImageFont.truetype(font_path, 64)\n",
    "char_to_draw = ',%'\n",
    "mask = font.getmask(char_to_draw)\n",
    "draw_size = font.getsize(char_to_draw)\n",
    "actual_size = font.getmask(char_to_draw).size\n",
    "print(draw_size,actual_size)\n",
    "a=np.array(mask).reshape(mask.size[::-1])\n",
    "plt.imshow(a)"
   ]
  },
  {
   "cell_type": "code",
   "execution_count": 42,
   "metadata": {},
   "outputs": [
    {
     "data": {
      "text/plain": [
       "(11, 13)"
      ]
     },
     "execution_count": 42,
     "metadata": {},
     "output_type": "execute_result"
    }
   ],
   "source": [
    "(char_width, char_height) = font.getsize(char_to_draw)\n",
    "(char_width, char_height)"
   ]
  },
  {
   "cell_type": "code",
   "execution_count": null,
   "metadata": {},
   "outputs": [],
   "source": [
    "draw = ImageDraw.Draw(image)\n",
    "    draw.text((x_coord, y_coord), \n",
    "              char_to_draw, \n",
    "              fill=text_color, \n",
    "              font=font,\n",
    "             stroke_width=0) "
   ]
  },
  {
   "cell_type": "markdown",
   "metadata": {},
   "source": [
    "# NEW GENERATION"
   ]
  },
  {
   "cell_type": "code",
   "execution_count": 2,
   "metadata": {},
   "outputs": [
    {
     "name": "stdout",
     "output_type": "stream",
     "text": [
      "[55, 52, 101, 104, 0]\n"
     ]
    },
    {
     "data": {
      "text/plain": [
       "<matplotlib.image.AxesImage at 0x1e04ac58390>"
      ]
     },
     "execution_count": 2,
     "metadata": {},
     "output_type": "execute_result"
    },
    {
     "data": {
      "image/png": "[encoded data removed]",
      "text/plain": [
       "<Figure size 432x288 with 1 Axes>"
      ]
     },
     "metadata": {
      "needs_background": "light"
     },
     "output_type": "display_data"
    }
   ],
   "source": [
    "class Number_Generator:\n",
    "    def __init__(self, fonts_dir=r'Z:\\WORK2\\Numbers_generator\\fonts'):\n",
    "        self.true_alphabet = '0123456789'\n",
    "        self.trash_alphabet = '+-=#*%$№@'\n",
    "        self.alphabet = self.true_alphabet + self.trash_alphabet\n",
    "        self.true_prob = 1 / 11\n",
    "        self.trash_prob = 1 / 11 / len(self.trash_alphabet)\n",
    "        self.probs = [self.true_prob for _ in range(len(self.true_alphabet))] + \\\n",
    "                     [self.trash_prob for _ in range(len(self.trash_alphabet))]\n",
    "        self.indexes = np.arange(len(self.alphabet))\n",
    "        self.Fonts = self._get_fonts(fonts_dir)\n",
    "\n",
    "    def _get_fonts(self, fonts_dir):\n",
    "        py = pathlib.Path(fonts_dir).glob(\"*.ttf\")\n",
    "        Fonts = []\n",
    "        for file in py:\n",
    "            Fonts.append(ImageFont.truetype(str(file), 64))\n",
    "        return Fonts\n",
    "\n",
    "    def Get_item(self,\n",
    "                 char_to_crop_size=0.5,\n",
    "                 prob_to_add_dots=0.2):\n",
    "\n",
    "        ind = np.random.choice(self.indexes, 1, p=self.probs)[0]\n",
    "        char_to_draw = self.alphabet[ind]\n",
    "        true_label = char_to_draw\n",
    "        ####### SIZE CHOICE ########\n",
    "\n",
    "        font = np.random.choice(self.Fonts)\n",
    "        draw_size = font.getsize(char_to_draw)\n",
    "        actual_size = font.getmask(char_to_draw).size\n",
    "\n",
    "        if actual_size[0] > actual_size[1]:  # x > y\n",
    "            _max = actual_size[0]\n",
    "        else:\n",
    "            _max = actual_size[1]\n",
    "        image_size = int(_max / char_to_crop_size * 2 - _max)\n",
    "        if image_size<100:\n",
    "            image_size=128\n",
    "\n",
    "        ####### Coordinates to draw ######\n",
    "        # drawing adds some pixels from up and 0 or 1 from down\n",
    "        y_bias = draw_size[1] - actual_size[1]\n",
    "\n",
    "        x_min = int((image_size - actual_size[0]) / 2)\n",
    "        y_min = int((image_size - actual_size[1]) / 2) - y_bias\n",
    "\n",
    "        ##### COLOR CHOICE #####\n",
    "        R, G, B = np.random.randint(255, size=(3))\n",
    "        R_char = np.random.choice(np.delete(np.arange(255), np.s_[R - 50:R + 50]))\n",
    "        G_char = np.random.choice(np.delete(np.arange(255), np.s_[G - 50:G + 50]))\n",
    "        B_char = np.random.choice(np.delete(np.arange(255), np.s_[B - 50:B + 50]))\n",
    "        background_color = (R, G, B)\n",
    "        text_color = (R_char, G_char, B_char)\n",
    "\n",
    "        image = Image.new('RGB', (image_size, image_size), color=background_color)\n",
    "\n",
    "        ###### ADD random dots to char ####\n",
    "        if np.random.rand() < prob_to_add_dots:\n",
    "            adding = random.choice('.,:\\'')\n",
    "            char_to_draw = adding + char_to_draw\n",
    "        if np.random.rand() < prob_to_add_dots:\n",
    "            adding = random.choice('.,:\\'')\n",
    "            char_to_draw = char_to_draw + adding\n",
    "\n",
    "        draw = ImageDraw.Draw(image)\n",
    "        draw.text((x_min, y_min), char_to_draw, fill=text_color, font=font, stroke_width=0)\n",
    "\n",
    "        # BBOX [x_min, y_min, width, height] format = 'pascal_voc'\n",
    "        label = int(true_label) if true_label in self.true_alphabet else 10\n",
    "        bbox = [x_min, y_min + y_bias, actual_size[0] + x_min, actual_size[1] + y_min + y_bias, label]\n",
    "        \n",
    "        assert image.size[0]>64 , f'{font.path}'\n",
    "        assert actual_size[0]>0 and actual_size[1]>0, f'{font.path}, char={char_to_draw},bbox={bbox}, actual_size={actual_size} '\n",
    "        \n",
    "        return image, bbox\n",
    "\n",
    "    \n",
    "Generator = Number_Generator()\n",
    "img, bbox = Generator.Get_item(char_to_crop_size = 0.5)\n",
    "print(bbox)\n",
    "plt.imshow(img)"
   ]
  },
  {
   "cell_type": "code",
   "execution_count": null,
   "metadata": {},
   "outputs": [],
   "source": []
  },
  {
   "cell_type": "code",
   "execution_count": 3,
   "metadata": {},
   "outputs": [],
   "source": [
    "import albumentations as albu\n",
    "from albumentations.pytorch import ToTensor\n",
    "\n",
    "BORDER_CONSTANT = 0\n",
    "BORDER_REFLECT = 2\n",
    "\n",
    "def pre_transforms(image_size=64):\n",
    "    # Convert the image to a square of size image_size x image_size\n",
    "    # (keeping aspect ratio)\n",
    "    return albu.Compose([\n",
    "        albu.CenterCrop(image_size+20,image_size+20),\n",
    "        albu.LongestMaxSize(max_size=image_size),\n",
    "        albu.PadIfNeeded(image_size, image_size, border_mode=BORDER_CONSTANT, value=0)\n",
    "    ], bbox_params=albu.BboxParams(format='pascal_voc'))\n",
    "\n",
    "\n",
    "def hard_transforms():\n",
    "    return albu.Compose([\n",
    "        albu.Rotate(limit=30, interpolation=cv2.INTER_LINEAR, border_mode=cv2.BORDER_CONSTANT, value=(0,0,0)),\n",
    "        albu.RandomSizedBBoxSafeCrop(width=64, height=64, erosion_rate=0.2),\n",
    "        albu.InvertImg(p=0.3),\n",
    "        albu.HueSaturationValue(p=0.3),\n",
    "        albu.OneOf([\n",
    "            albu.IAAAdditiveGaussianNoise(),\n",
    "            albu.GaussNoise(),\n",
    "            albu.MultiplicativeNoise(multiplier=[0.5, 1.5], per_channel=True, p=1)\n",
    "        ], p=0.3),\n",
    "        albu.OneOf([\n",
    "            albu.MotionBlur(p=0.2),\n",
    "            albu.MedianBlur(blur_limit=3, p=0.1),\n",
    "            albu.Blur(blur_limit=3, p=0.1),\n",
    "        ], p=0.2),\n",
    "        albu.OneOf([\n",
    "            albu.CLAHE(clip_limit=2),\n",
    "            albu.IAASharpen(),\n",
    "            albu.IAAEmboss(),\n",
    "            albu.RandomBrightnessContrast(brightness_limit=0.2, contrast_limit=0.2, p=0.3),\n",
    "            albu.RandomGamma(gamma_limit=(85, 115), p=0.3),\n",
    "        ], p=0.3),\n",
    "        albu.JpegCompression(quality_lower=30, quality_upper=100, p=0.5),\n",
    "        albu.Cutout(num_holes=10, max_h_size=5, max_w_size=5, fill_value=0, p=0.5),\n",
    "        ], p=1, bbox_params=albu.BboxParams(format='pascal_voc'))\n",
    "\n",
    "def post_transforms():\n",
    "    return albu.Compose([\n",
    "        albu.Normalize(),\n",
    "        ToTensor()],\n",
    "        p=1, bbox_params=albu.BboxParams(format='pascal_voc'))\n",
    "\n",
    "train_transforms = albu.Compose([\n",
    "    hard_transforms(),\n",
    "    post_transforms()\n",
    "])\n",
    "\n",
    "train_transforms = albu.Compose([\n",
    "    hard_transforms(),\n",
    "    post_transforms()\n",
    "])\n",
    "\n",
    "valid_transforms = albu.Compose([pre_transforms(), post_transforms()])\n",
    "\n",
    "show_transforms = albu.Compose([pre_transforms(), hard_transforms()])"
   ]
  },
  {
   "cell_type": "code",
   "execution_count": 4,
   "metadata": {},
   "outputs": [],
   "source": [
    "class Dataset_one_PIL_digit(Dataset):\n",
    "    def __init__(self, transforms=None, size_of_dataset=1000) -> None:\n",
    "        self.transforms = transforms\n",
    "        self.size_of_dataset = size_of_dataset\n",
    "        self.Generator = Number_Generator()\n",
    "\n",
    "    def __len__(self) -> int:\n",
    "        return self.size_of_dataset\n",
    "\n",
    "    def __getitem__(self, idx: int) -> dict:\n",
    "        img, bbox = self.Generator.Get_item(char_to_crop_size=0.5)\n",
    "\n",
    "        result = {\"image\": np.array(img), \"bboxes\": [bbox]}\n",
    "        print(bbox)\n",
    "        print(img.size)\n",
    "        if self.transforms is not None:\n",
    "            result = self.transforms(**result)\n",
    "        result['label'] = bbox[-1]\n",
    "\n",
    "        return result"
   ]
  },
  {
   "cell_type": "code",
   "execution_count": 38,
   "metadata": {},
   "outputs": [],
   "source": [
    "train_transforms = albu.Compose([\n",
    "    hard_transforms(),\n",
    "    post_transforms()\n",
    "])"
   ]
  },
  {
   "cell_type": "code",
   "execution_count": 41,
   "metadata": {},
   "outputs": [],
   "source": [
    "cls = Dataset_one_PIL_digit(transforms = train_transforms)"
   ]
  },
  {
   "cell_type": "code",
   "execution_count": 42,
   "metadata": {},
   "outputs": [
    {
     "name": "stdout",
     "output_type": "stream",
     "text": [
      "[53, 47, 88, 94, 2]\n",
      "(141, 141)\n",
      "2\n",
      "[45, 42, 80, 84, 3]\n",
      "(126, 126)\n",
      "3\n",
      "[44, 42, 82, 84, 4]\n",
      "(126, 126)\n",
      "4\n",
      "[57, 52, 98, 104, 6]\n",
      "(156, 156)\n",
      "6\n",
      "[57, 62, 114, 108, 8]\n",
      "(171, 171)\n",
      "8\n",
      "[36, 38, 72, 69, 10]\n",
      "(108, 108)\n",
      "10\n",
      "[53, 50, 96, 100, 10]\n",
      "(150, 150)\n",
      "10\n",
      "[57, 51, 96, 102, 2]\n",
      "(153, 153)\n",
      "2\n",
      "[53, 48, 91, 96, 4]\n",
      "(144, 144)\n",
      "4\n",
      "[54, 52, 102, 104, 0]\n",
      "(156, 156)\n",
      "0\n",
      "[56, 50, 94, 100, 2]\n",
      "(150, 150)\n",
      "2\n",
      "[54, 48, 89, 96, 8]\n",
      "(144, 144)\n",
      "8\n",
      "[51, 46, 87, 92, 5]\n",
      "(138, 138)\n",
      "5\n",
      "[52, 47, 88, 94, 9]\n",
      "(141, 141)\n",
      "9\n",
      "[45, 42, 80, 84, 5]\n",
      "(126, 126)\n",
      "5\n",
      "[55, 49, 92, 98, 4]\n",
      "(147, 147)\n",
      "4\n",
      "[54, 48, 89, 96, 6]\n",
      "(144, 144)\n",
      "6\n",
      "[47, 43, 82, 86, 5]\n",
      "(129, 129)\n",
      "5\n",
      "[58, 51, 95, 102, 4]\n",
      "(153, 153)\n",
      "4\n",
      "[54, 50, 95, 100, 10]\n",
      "(150, 150)\n",
      "10\n",
      "[51, 42, 74, 84, 10]\n",
      "(126, 126)\n",
      "10\n",
      "[57, 50, 93, 100, 9]\n",
      "(150, 150)\n",
      "9\n",
      "[52, 47, 88, 94, 8]\n",
      "(141, 141)\n",
      "8\n",
      "[51, 46, 87, 92, 1]\n",
      "(138, 138)\n",
      "1\n",
      "[53, 47, 88, 94, 2]\n",
      "(141, 141)\n",
      "2\n",
      "[58, 50, 91, 100, 3]\n",
      "(150, 150)\n",
      "3\n",
      "[61, 51, 92, 102, 1]\n",
      "(153, 153)\n",
      "1\n",
      "[54, 48, 89, 96, 3]\n",
      "(144, 144)\n",
      "3\n",
      "[51, 46, 86, 92, 7]\n",
      "(138, 138)\n",
      "7\n",
      "[45, 42, 80, 84, 6]\n",
      "(126, 126)\n",
      "6\n",
      "[54, 48, 90, 96, 0]\n",
      "(144, 144)\n",
      "0\n",
      "[51, 46, 87, 92, 5]\n",
      "(138, 138)\n",
      "5\n",
      "[57, 47, 83, 94, 1]\n",
      "(141, 141)\n",
      "1\n",
      "[47, 42, 79, 84, 3]\n",
      "(126, 126)\n",
      "3\n",
      "[48, 44, 84, 88, 0]\n",
      "(132, 132)\n",
      "0\n",
      "[62, 51, 91, 102, 1]\n",
      "(153, 153)\n",
      "1\n",
      "[53, 42, 73, 84, 1]\n",
      "(126, 126)\n",
      "1\n",
      "[52, 47, 88, 94, 8]\n",
      "(141, 141)\n",
      "8\n",
      "[44, 41, 79, 82, 4]\n",
      "(123, 123)\n",
      "4\n",
      "[48, 44, 84, 88, 1]\n",
      "(132, 132)\n",
      "1\n",
      "[57, 52, 98, 104, 3]\n",
      "(156, 156)\n",
      "3\n",
      "[58, 48, 86, 96, 1]\n",
      "(144, 144)\n",
      "1\n",
      "[46, 43, 82, 86, 0]\n",
      "(129, 129)\n",
      "0\n",
      "[54, 49, 93, 98, 6]\n",
      "(147, 147)\n",
      "6\n",
      "[53, 47, 88, 94, 2]\n",
      "(141, 141)\n",
      "2\n",
      "[62, 51, 90, 102, 1]\n",
      "(153, 153)\n",
      "1\n",
      "[61, 53, 98, 106, 10]\n",
      "(159, 159)\n",
      "10\n",
      "[51, 46, 87, 92, 4]\n",
      "(138, 138)\n",
      "4\n",
      "[57, 50, 93, 100, 6]\n",
      "(150, 150)\n",
      "6\n",
      "[63, 71, 126, 117, 1]\n",
      "(189, 189)\n",
      "1\n",
      "[58, 52, 97, 104, 3]\n",
      "(156, 156)\n",
      "3\n",
      "[55, 48, 89, 96, 3]\n",
      "(144, 144)\n",
      "3\n",
      "[52, 42, 74, 84, 1]\n",
      "(126, 126)\n",
      "1\n",
      "[56, 46, 81, 92, 10]\n",
      "(138, 138)\n",
      "10\n",
      "[51, 46, 87, 92, 1]\n",
      "(138, 138)\n",
      "1\n",
      "[48, 44, 84, 88, 2]\n",
      "(132, 132)\n",
      "2\n",
      "[54, 46, 84, 92, 10]\n",
      "(138, 138)\n",
      "10\n",
      "[48, 44, 84, 88, 3]\n",
      "(132, 132)\n",
      "3\n",
      "[47, 43, 82, 86, 3]\n",
      "(129, 129)\n",
      "3\n",
      "[52, 47, 88, 94, 8]\n",
      "(141, 141)\n",
      "8\n",
      "[54, 48, 90, 96, 9]\n",
      "(144, 144)\n",
      "9\n",
      "[54, 48, 89, 96, 3]\n",
      "(144, 144)\n",
      "3\n",
      "[56, 51, 96, 102, 2]\n",
      "(153, 153)\n",
      "2\n",
      "[52, 52, 104, 103, 4]\n",
      "(156, 156)\n",
      "4\n",
      "[59, 50, 90, 100, 7]\n",
      "(150, 150)\n",
      "7\n",
      "[59, 50, 91, 100, 10]\n",
      "(150, 150)\n",
      "10\n",
      "[48, 42, 77, 84, 7]\n",
      "(126, 126)\n",
      "7\n",
      "[43, 41, 79, 82, 9]\n",
      "(123, 123)\n",
      "9\n",
      "[51, 46, 87, 92, 4]\n",
      "(138, 138)\n",
      "4\n",
      "[61, 51, 92, 102, 1]\n",
      "(153, 153)\n",
      "1\n",
      "[49, 50, 98, 97, 6]\n",
      "(147, 147)\n",
      "6\n",
      "[57, 52, 98, 104, 6]\n",
      "(156, 156)\n",
      "6\n",
      "[45, 42, 81, 84, 0]\n",
      "(126, 126)\n",
      "0\n",
      "[56, 49, 91, 98, 2]\n",
      "(147, 147)\n",
      "2\n",
      "[53, 47, 87, 94, 5]\n",
      "(141, 141)\n",
      "5\n",
      "[52, 47, 88, 94, 3]\n",
      "(141, 141)\n",
      "3\n",
      "[57, 47, 83, 94, 1]\n",
      "(141, 141)\n",
      "1\n",
      "[34, 37, 68, 64, 10]\n",
      "(102, 102)\n",
      "10\n",
      "[57, 52, 98, 104, 6]\n",
      "(156, 156)\n",
      "6\n",
      "[52, 47, 88, 94, 8]\n",
      "(141, 141)\n",
      "8\n",
      "[48, 42, 77, 84, 7]\n",
      "(126, 126)\n",
      "7\n",
      "[62, 60, 118, 120, 10]\n",
      "(180, 180)\n",
      "10\n",
      "[57, 52, 98, 104, 8]\n",
      "(156, 156)\n",
      "8\n",
      "[45, 42, 81, 84, 0]\n",
      "(126, 126)\n",
      "0\n",
      "[44, 42, 81, 84, 4]\n",
      "(126, 126)\n",
      "4\n",
      "[54, 48, 89, 96, 9]\n",
      "(144, 144)\n",
      "9\n",
      "[48, 42, 77, 84, 7]\n",
      "(126, 126)\n",
      "7\n",
      "[48, 44, 84, 88, 1]\n",
      "(132, 132)\n",
      "1\n",
      "[54, 48, 90, 96, 0]\n",
      "(144, 144)\n",
      "0\n",
      "[57, 52, 98, 104, 6]\n",
      "(156, 156)\n",
      "6\n",
      "[57, 52, 98, 104, 8]\n",
      "(156, 156)\n",
      "8\n",
      "[57, 62, 114, 108, 8]\n",
      "(171, 171)\n",
      "8\n",
      "[65, 50, 84, 100, 1]\n",
      "(150, 150)\n",
      "1\n",
      "[55, 51, 97, 102, 2]\n",
      "(153, 153)\n",
      "2\n",
      "[54, 48, 90, 96, 9]\n",
      "(144, 144)\n",
      "9\n",
      "[58, 50, 91, 100, 3]\n",
      "(150, 150)\n",
      "3\n",
      "[47, 47, 94, 94, 7]\n",
      "(141, 141)\n",
      "7\n",
      "[58, 50, 91, 100, 3]\n",
      "(150, 150)\n",
      "3\n",
      "[57, 49, 89, 98, 7]\n",
      "(147, 147)\n",
      "7\n",
      "[50, 41, 73, 82, 1]\n",
      "(123, 123)\n",
      "1\n",
      "[57, 52, 98, 104, 8]\n",
      "(156, 156)\n",
      "8\n",
      "[58, 52, 97, 104, 3]\n",
      "(156, 156)\n",
      "3\n",
      "[47, 42, 79, 84, 3]\n",
      "(126, 126)\n",
      "3\n",
      "[52, 47, 88, 94, 6]\n",
      "(141, 141)\n",
      "6\n",
      "[51, 46, 87, 92, 5]\n",
      "(138, 138)\n",
      "5\n",
      "[54, 48, 89, 96, 8]\n",
      "(144, 144)\n",
      "8\n",
      "[54, 48, 90, 96, 9]\n",
      "(144, 144)\n",
      "9\n",
      "[54, 48, 89, 96, 8]\n",
      "(144, 144)\n",
      "8\n",
      "[58, 52, 97, 104, 3]\n",
      "(156, 156)\n",
      "3\n",
      "[54, 47, 87, 94, 5]\n",
      "(141, 141)\n",
      "5\n",
      "[53, 47, 87, 94, 5]\n",
      "(141, 141)\n",
      "5\n",
      "[51, 42, 74, 84, 1]\n",
      "(126, 126)\n",
      "1\n",
      "[44, 41, 79, 82, 4]\n",
      "(123, 123)\n",
      "4\n",
      "[54, 48, 90, 96, 9]\n",
      "(144, 144)\n",
      "9\n",
      "[52, 47, 88, 94, 6]\n",
      "(141, 141)\n",
      "6\n",
      "[42, 41, 80, 82, 4]\n",
      "(123, 123)\n",
      "4\n",
      "[46, 43, 82, 86, 8]\n",
      "(129, 129)\n",
      "8\n",
      "[51, 46, 87, 92, 5]\n",
      "(138, 138)\n",
      "5\n",
      "[44, 42, 81, 84, 4]\n",
      "(126, 126)\n",
      "4\n",
      "[58, 52, 97, 104, 3]\n",
      "(156, 156)\n",
      "3\n",
      "[48, 44, 84, 88, 0]\n",
      "(132, 132)\n",
      "0\n",
      "[53, 47, 88, 94, 2]\n",
      "(141, 141)\n",
      "2\n",
      "[57, 50, 93, 100, 6]\n",
      "(150, 150)\n",
      "6\n",
      "[58, 51, 95, 102, 4]\n",
      "(153, 153)\n",
      "4\n",
      "[48, 44, 84, 88, 3]\n",
      "(132, 132)\n",
      "3\n",
      "[52, 47, 88, 94, 9]\n",
      "(141, 141)\n",
      "9\n",
      "[55, 49, 92, 98, 4]\n",
      "(147, 147)\n",
      "4\n",
      "[55, 52, 101, 104, 0]\n",
      "(156, 156)\n",
      "0\n",
      "[47, 42, 79, 84, 3]\n",
      "(126, 126)\n",
      "3\n",
      "[46, 43, 82, 86, 9]\n",
      "(129, 129)\n",
      "9\n",
      "[53, 48, 91, 96, 4]\n",
      "(144, 144)\n",
      "4\n",
      "[47, 42, 79, 84, 3]\n",
      "(126, 126)\n",
      "3\n",
      "[47, 42, 79, 84, 3]\n",
      "(126, 126)\n",
      "3\n",
      "[49, 45, 85, 90, 8]\n",
      "(135, 135)\n",
      "8\n",
      "[52, 47, 88, 94, 9]\n",
      "(141, 141)\n",
      "9\n",
      "[51, 42, 74, 84, 10]\n",
      "(126, 126)\n",
      "10\n",
      "[51, 42, 74, 84, 1]\n",
      "(126, 126)\n",
      "1\n",
      "[54, 48, 90, 96, 9]\n",
      "(144, 144)\n",
      "9\n",
      "[54, 48, 90, 96, 6]\n",
      "(144, 144)\n",
      "6\n",
      "[44, 42, 82, 84, 4]\n",
      "(126, 126)\n",
      "4\n",
      "[48, 42, 77, 84, 7]\n",
      "(126, 126)\n",
      "7\n",
      "[60, 53, 98, 106, 5]\n",
      "(159, 159)\n",
      "5\n",
      "[55, 52, 100, 104, 10]\n",
      "(156, 156)\n",
      "10\n",
      "[48, 42, 77, 84, 7]\n",
      "(126, 126)\n",
      "7\n",
      "[45, 42, 80, 84, 6]\n",
      "(126, 126)\n",
      "6\n",
      "[53, 55, 106, 103, 9]\n",
      "(159, 159)\n",
      "9\n",
      "[63, 71, 126, 117, 1]\n",
      "(189, 189)\n",
      "1\n",
      "[45, 42, 81, 84, 8]\n",
      "(126, 126)\n",
      "8\n",
      "[47, 42, 79, 84, 3]\n",
      "(126, 126)\n",
      "3\n",
      "[58, 51, 95, 102, 4]\n",
      "(153, 153)\n",
      "4\n",
      "[47, 42, 79, 84, 3]\n",
      "(126, 126)\n",
      "3\n",
      "[51, 46, 87, 92, 6]\n",
      "(138, 138)\n",
      "6\n",
      "[53, 54, 74, 73, 10]\n",
      "(128, 128)\n",
      "10\n",
      "[52, 42, 74, 84, 1]\n",
      "(126, 126)\n",
      "1\n",
      "[57, 50, 93, 100, 6]\n",
      "(150, 150)\n",
      "6\n",
      "[58, 51, 95, 102, 4]\n",
      "(153, 153)\n",
      "4\n",
      "[54, 49, 93, 98, 6]\n",
      "(147, 147)\n",
      "6\n",
      "[45, 42, 81, 84, 0]\n",
      "(126, 126)\n",
      "0\n",
      "[46, 42, 80, 84, 5]\n",
      "(126, 126)\n",
      "5\n",
      "[55, 50, 95, 100, 0]\n",
      "(150, 150)\n",
      "0\n",
      "[53, 42, 73, 84, 1]\n",
      "(126, 126)\n",
      "1\n",
      "[43, 42, 82, 84, 10]\n",
      "(126, 126)\n",
      "10\n",
      "[55, 50, 94, 100, 8]\n",
      "(150, 150)\n",
      "8\n",
      "[57, 50, 93, 100, 6]\n",
      "(150, 150)\n",
      "6\n",
      "[54, 47, 87, 94, 5]\n",
      "(141, 141)\n",
      "5\n",
      "[53, 47, 87, 94, 5]\n",
      "(141, 141)\n",
      "5\n",
      "[45, 42, 80, 84, 9]\n",
      "(126, 126)\n",
      "9\n",
      "[76, 93, 152, 135, 10]\n",
      "(228, 228)\n",
      "10\n",
      "[48, 42, 77, 84, 7]\n",
      "(126, 126)\n",
      "7\n",
      "[58, 48, 86, 96, 1]\n",
      "(144, 144)\n",
      "1\n",
      "[58, 50, 91, 100, 3]\n",
      "(150, 150)\n",
      "3\n",
      "[54, 48, 89, 96, 8]\n",
      "(144, 144)\n",
      "8\n",
      "[51, 46, 86, 92, 7]\n",
      "(138, 138)\n",
      "7\n",
      "[53, 47, 88, 94, 2]\n",
      "(141, 141)\n",
      "2\n",
      "[57, 63, 114, 108, 2]\n",
      "(171, 171)\n",
      "2\n",
      "[51, 42, 74, 84, 10]\n",
      "(126, 126)\n",
      "10\n",
      "[54, 48, 89, 96, 3]\n",
      "(144, 144)\n",
      "3\n",
      "[58, 48, 86, 96, 1]\n",
      "(144, 144)\n",
      "1\n",
      "[52, 47, 88, 94, 6]\n",
      "(141, 141)\n",
      "6\n",
      "[53, 47, 88, 94, 2]\n",
      "(141, 141)\n",
      "2\n",
      "[45, 40, 74, 80, 7]\n",
      "(120, 120)\n",
      "7\n",
      "[62, 66, 124, 120, 10]\n",
      "(186, 186)\n",
      "10\n",
      "[51, 46, 87, 92, 6]\n",
      "(138, 138)\n",
      "6\n",
      "[60, 53, 99, 106, 5]\n",
      "(159, 159)\n",
      "5\n",
      "[51, 46, 87, 92, 2]\n",
      "(138, 138)\n",
      "2\n",
      "[65, 55, 99, 110, 7]\n",
      "(165, 165)\n",
      "7\n",
      "[57, 52, 98, 104, 8]\n",
      "(156, 156)\n",
      "8\n",
      "[45, 44, 87, 88, 5]\n",
      "(132, 132)\n",
      "5\n",
      "[55, 50, 94, 100, 8]\n",
      "(150, 150)\n",
      "8\n",
      "[49, 55, 79, 72, 10]\n",
      "(128, 128)\n",
      "10\n",
      "[57, 63, 114, 108, 2]\n",
      "(171, 171)\n",
      "2\n",
      "[45, 42, 81, 84, 8]\n",
      "(126, 126)\n",
      "8\n",
      "[49, 48, 94, 96, 10]\n",
      "(144, 144)\n",
      "10\n",
      "[54, 49, 93, 98, 6]\n",
      "(147, 147)\n",
      "6\n",
      "[46, 43, 82, 86, 5]\n",
      "(129, 129)\n",
      "5\n",
      "[54, 48, 89, 96, 6]\n",
      "(144, 144)\n",
      "6\n",
      "[52, 47, 88, 94, 8]\n",
      "(141, 141)\n",
      "8\n",
      "[47, 43, 82, 86, 3]\n",
      "(129, 129)\n",
      "3\n",
      "[56, 47, 84, 94, 1]\n",
      "(141, 141)\n",
      "1\n",
      "[55, 52, 101, 104, 0]\n",
      "(156, 156)\n",
      "0\n"
     ]
    }
   ],
   "source": [
    "for i in range(200):\n",
    "    a = cls[i]\n",
    "#     plt.imshow(a['image'])\n",
    "    print(a['label'])\n",
    "#     plt.show()"
   ]
  },
  {
   "cell_type": "code",
   "execution_count": null,
   "metadata": {},
   "outputs": [],
   "source": []
  },
  {
   "cell_type": "code",
   "execution_count": null,
   "metadata": {},
   "outputs": [],
   "source": []
  },
  {
   "cell_type": "markdown",
   "metadata": {},
   "source": [
    "# LOADERS"
   ]
  },
  {
   "cell_type": "code",
   "execution_count": 43,
   "metadata": {},
   "outputs": [],
   "source": [
    "import collections\n",
    "\n",
    "def get_loaders(\n",
    "    train_transforms_fn,\n",
    "    valid_transforms_fn,\n",
    "    batch_size: int = 64, \n",
    "    num_workers: int = 4,\n",
    "    sampler = None\n",
    ") -> collections.OrderedDict:\n",
    "    \"\"\"\n",
    "    Args:\n",
    "        train_transforms_fn: Augmentor for train part\n",
    "        valid_transforms_fn: Augmentor for valid part\n",
    "        batch_size: batch size\n",
    "        num_workers: How many subprocesses to use to load data,\n",
    "        sampler: An object of the torch.utils.data.Sampler class \n",
    "            for the dataset data sampling strategy specification\n",
    "    \"\"\"\n",
    "    \n",
    "    Train_DS = Dataset_one_PIL_digit(transforms=train_transforms)\n",
    "    Test_DS = Dataset_one_PIL_digit(transforms=valid_transforms)\n",
    "    \n",
    "    train_loader = DataLoader(Train_DS, \n",
    "                                   batch_size=batch_size, \n",
    "                                   num_workers=num_workers,\n",
    "                                   shuffle=False,\n",
    "                                   sampler = sampler, \n",
    "                                   drop_last=True)\n",
    "\n",
    "    valid_loader = DataLoader(Test_DS, \n",
    "                                  batch_size=batch_size, \n",
    "                                  num_workers=num_workers)\n",
    "    \n",
    "\n",
    "    # Catalyst expects an ordered dictionary with train/valid/infer loaders. \n",
    "    # The number of loaders can vary.\n",
    "    # For example, it can easily handle even some complex logic like:\n",
    "    # loaders[\"train_dataset1\"] = train_loader_1\n",
    "    # loaders[\"train_dataset2\"] = train_loader_2\n",
    "    # ....\n",
    "    # loaders[\"valid_1\"] = valid_loader_1\n",
    "    # loaders[\"valid_2\"] = valid_loader_2\n",
    "    # ...\n",
    "    # loaders[\"infer_1\"] = infer_loader_1\n",
    "    # loaders[\"infer_2\"] = infer_loader_2\n",
    "    # ...\n",
    "    \n",
    "    loaders = collections.OrderedDict()\n",
    "    loaders[\"train\"] = train_loader\n",
    "    loaders[\"valid\"] = valid_loader\n",
    "\n",
    "    return loaders"
   ]
  },
  {
   "cell_type": "code",
   "execution_count": 44,
   "metadata": {},
   "outputs": [],
   "source": [
    "Loaders = get_loaders(train_transforms, valid_transforms, num_workers= 0)"
   ]
  },
  {
   "cell_type": "code",
   "execution_count": 45,
   "metadata": {},
   "outputs": [
    {
     "name": "stdout",
     "output_type": "stream",
     "text": [
      "[49, 45, 85, 90, 7]\n",
      "(135, 135)\n",
      "[57, 50, 92, 100, 8]\n",
      "(150, 150)\n",
      "[53, 48, 90, 96, 0]\n",
      "(144, 144)\n",
      "[54, 48, 89, 96, 6]\n",
      "(144, 144)\n",
      "[57, 51, 96, 102, 2]\n",
      "(153, 153)\n",
      "[49, 45, 85, 90, 4]\n",
      "(135, 135)\n",
      "[56, 52, 99, 104, 6]\n",
      "(156, 156)\n",
      "[48, 44, 84, 88, 1]\n",
      "(132, 132)\n",
      "[50, 46, 87, 92, 4]\n",
      "(138, 138)\n",
      "[47, 43, 81, 86, 6]\n",
      "(129, 129)\n",
      "[51, 46, 87, 92, 5]\n",
      "(138, 138)\n",
      "[54, 48, 89, 96, 6]\n",
      "(144, 144)\n",
      "[56, 49, 91, 98, 2]\n",
      "(147, 147)\n",
      "[47, 43, 82, 86, 9]\n",
      "(129, 129)\n",
      "[57, 52, 98, 104, 9]\n",
      "(156, 156)\n",
      "[50, 46, 87, 92, 4]\n",
      "(138, 138)\n",
      "[48, 44, 84, 88, 2]\n",
      "(132, 132)\n",
      "[34, 35, 68, 67, 10]\n",
      "(102, 102)\n",
      "[53, 54, 74, 73, 10]\n",
      "(128, 128)\n",
      "[54, 48, 89, 96, 3]\n",
      "(144, 144)\n",
      "[46, 42, 79, 84, 2]\n",
      "(126, 126)\n",
      "[50, 46, 87, 92, 4]\n",
      "(138, 138)\n",
      "[45, 42, 80, 84, 5]\n",
      "(126, 126)\n",
      "[49, 45, 85, 90, 4]\n",
      "(135, 135)\n",
      "[53, 48, 90, 96, 0]\n",
      "(144, 144)\n",
      "[51, 46, 87, 92, 7]\n",
      "(138, 138)\n",
      "[53, 48, 90, 96, 0]\n",
      "(144, 144)\n",
      "[52, 42, 74, 84, 1]\n",
      "(126, 126)\n",
      "[58, 48, 86, 96, 1]\n",
      "(144, 144)\n",
      "[46, 43, 82, 86, 8]\n",
      "(129, 129)\n",
      "[46, 43, 82, 86, 0]\n",
      "(129, 129)\n",
      "[49, 45, 85, 90, 7]\n",
      "(135, 135)\n",
      "[51, 46, 87, 92, 4]\n",
      "(138, 138)\n",
      "[59, 50, 90, 100, 7]\n",
      "(150, 150)\n",
      "[58, 52, 97, 104, 8]\n",
      "(156, 156)\n",
      "[42, 41, 80, 82, 4]\n",
      "(123, 123)\n",
      "[65, 50, 84, 100, 1]\n",
      "(150, 150)\n",
      "[53, 47, 88, 94, 2]\n",
      "(141, 141)\n",
      "[55, 52, 101, 104, 0]\n",
      "(156, 156)\n",
      "[55, 48, 89, 96, 3]\n",
      "(144, 144)\n",
      "[53, 55, 106, 103, 9]\n",
      "(159, 159)\n",
      "[52, 47, 88, 94, 9]\n",
      "(141, 141)\n",
      "[56, 49, 91, 98, 5]\n",
      "(147, 147)\n",
      "[53, 47, 88, 94, 2]\n",
      "(141, 141)\n",
      "[50, 46, 87, 92, 4]\n",
      "(138, 138)\n",
      "[57, 47, 83, 94, 1]\n",
      "(141, 141)\n",
      "[66, 55, 99, 110, 7]\n",
      "(165, 165)\n",
      "[57, 62, 114, 108, 8]\n",
      "(171, 171)\n",
      "[52, 47, 88, 94, 6]\n",
      "(141, 141)\n",
      "[50, 41, 73, 82, 1]\n",
      "(123, 123)\n",
      "[61, 51, 92, 102, 10]\n",
      "(153, 153)\n",
      "[57, 52, 98, 104, 8]\n",
      "(156, 156)\n",
      "[53, 55, 106, 103, 9]\n",
      "(159, 159)\n",
      "[50, 46, 87, 92, 4]\n",
      "(138, 138)\n",
      "[52, 47, 88, 94, 3]\n",
      "(141, 141)\n",
      "[61, 54, 100, 108, 7]\n",
      "(162, 162)\n",
      "[49, 45, 85, 90, 7]\n",
      "(135, 135)\n",
      "[61, 51, 92, 102, 1]\n",
      "(153, 153)\n",
      "[56, 50, 94, 100, 2]\n",
      "(150, 150)\n",
      "[51, 42, 74, 84, 1]\n",
      "(126, 126)\n",
      "[50, 46, 87, 92, 4]\n",
      "(138, 138)\n",
      "[38, 37, 73, 74, 10]\n",
      "(111, 111)\n",
      "[47, 42, 79, 84, 3]\n",
      "(126, 126)\n",
      "[57, 52, 98, 104, 8]\n",
      "(156, 156)\n"
     ]
    },
    {
     "ename": "AttributeError",
     "evalue": "'dict' object has no attribute 'shape'",
     "output_type": "error",
     "traceback": [
      "\u001b[1;31m---------------------------------------------------------------------------\u001b[0m",
      "\u001b[1;31mAttributeError\u001b[0m                            Traceback (most recent call last)",
      "\u001b[1;32m<ipython-input-45-59a678a7e062>\u001b[0m in \u001b[0;36m<module>\u001b[1;34m\u001b[0m\n\u001b[0;32m      2\u001b[0m \u001b[1;33m\u001b[0m\u001b[0m\n\u001b[0;32m      3\u001b[0m \u001b[0mbatch\u001b[0m \u001b[1;33m=\u001b[0m \u001b[0mnext\u001b[0m\u001b[1;33m(\u001b[0m\u001b[0miter\u001b[0m\u001b[1;33m(\u001b[0m\u001b[0mL\u001b[0m\u001b[1;33m)\u001b[0m\u001b[1;33m)\u001b[0m\u001b[1;33m\u001b[0m\u001b[1;33m\u001b[0m\u001b[0m\n\u001b[1;32m----> 4\u001b[1;33m \u001b[0mbatch\u001b[0m\u001b[1;33m.\u001b[0m\u001b[0mshape\u001b[0m\u001b[1;33m\u001b[0m\u001b[1;33m\u001b[0m\u001b[0m\n\u001b[0m",
      "\u001b[1;31mAttributeError\u001b[0m: 'dict' object has no attribute 'shape'"
     ]
    }
   ],
   "source": [
    "L = Loaders['train']\n",
    "\n",
    "batch = next(iter(L))\n",
    "batch.shape"
   ]
  },
  {
   "cell_type": "code",
   "execution_count": 49,
   "metadata": {},
   "outputs": [
    {
     "data": {
      "text/plain": [
       "(torch.Size([64, 3, 64, 64]),\n",
       " tensor([ 7,  8,  0,  6,  2,  4,  6,  1,  4,  6,  5,  6,  2,  9,  9,  4,  2, 10,\n",
       "         10,  3,  2,  4,  5,  4,  0,  7,  0,  1,  1,  8,  0,  7,  4,  7,  8,  4,\n",
       "          1,  2,  0,  3,  9,  9,  5,  2,  4,  1,  7,  8,  6,  1, 10,  8,  9,  4,\n",
       "          3,  7,  7,  1,  2,  1,  4, 10,  3,  8]))"
      ]
     },
     "execution_count": 49,
     "metadata": {},
     "output_type": "execute_result"
    }
   ],
   "source": [
    "batch['image'].shape, batch['label']"
   ]
  },
  {
   "cell_type": "code",
   "execution_count": null,
   "metadata": {},
   "outputs": [],
   "source": []
  },
  {
   "cell_type": "code",
   "execution_count": null,
   "metadata": {},
   "outputs": [],
   "source": []
  },
  {
   "cell_type": "code",
   "execution_count": null,
   "metadata": {},
   "outputs": [],
   "source": []
  },
  {
   "cell_type": "code",
   "execution_count": null,
   "metadata": {},
   "outputs": [],
   "source": []
  },
  {
   "cell_type": "code",
   "execution_count": null,
   "metadata": {},
   "outputs": [],
   "source": []
  },
  {
   "cell_type": "code",
   "execution_count": null,
   "metadata": {},
   "outputs": [],
   "source": []
  },
  {
   "cell_type": "code",
   "execution_count": null,
   "metadata": {},
   "outputs": [],
   "source": []
  },
  {
   "cell_type": "code",
   "execution_count": null,
   "metadata": {},
   "outputs": [],
   "source": []
  },
  {
   "cell_type": "code",
   "execution_count": null,
   "metadata": {},
   "outputs": [],
   "source": []
  },
  {
   "cell_type": "code",
   "execution_count": null,
   "metadata": {},
   "outputs": [],
   "source": []
  }
 ],
 "metadata": {
  "kernelspec": {
   "display_name": "Python 3",
   "language": "python",
   "name": "python3"
  },
  "language_info": {
   "codemirror_mode": {
    "name": "ipython",
    "version": 3
   },
   "file_extension": ".py",
   "mimetype": "text/x-python",
   "name": "python",
   "nbconvert_exporter": "python",
   "pygments_lexer": "ipython3",
   "version": "3.8.5"
  }
 },
 "nbformat": 4,
 "nbformat_minor": 4
}
